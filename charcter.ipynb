{
 "cells": [
  {
   "cell_type": "code",
   "execution_count": 9,
   "id": "42329171",
   "metadata": {},
   "outputs": [
    {
     "name": "stdout",
     "output_type": "stream",
     "text": [
      "No. of Lower case characters: 12\n",
      "No. of Upper case Characters: 3\n"
     ]
    }
   ],
   "source": [
    "Str='The quick Brow Fox'\n",
    "lower=0\n",
    "upper=0\n",
    "for i in Str:\n",
    "      if(i.islower()):\n",
    "            lower+=1\n",
    "      if(i.isupper()):\n",
    "            upper+=1\n",
    "print(\"No. of Lower case characters:\",lower)\n",
    "print(\"No. of Upper case Characters:\",upper)"
   ]
  },
  {
   "cell_type": "code",
   "execution_count": null,
   "id": "9ef52844",
   "metadata": {},
   "outputs": [],
   "source": []
  }
 ],
 "metadata": {
  "kernelspec": {
   "display_name": "Python 3 (ipykernel)",
   "language": "python",
   "name": "python3"
  },
  "language_info": {
   "codemirror_mode": {
    "name": "ipython",
    "version": 3
   },
   "file_extension": ".py",
   "mimetype": "text/x-python",
   "name": "python",
   "nbconvert_exporter": "python",
   "pygments_lexer": "ipython3",
   "version": "3.8.0"
  }
 },
 "nbformat": 4,
 "nbformat_minor": 5
}
